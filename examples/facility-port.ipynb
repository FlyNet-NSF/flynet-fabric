{
 "cells": [
  {
   "cell_type": "markdown",
   "id": "abc1d809-dc1e-4472-ae00-7a134feee2b0",
   "metadata": {},
   "source": [
    "# Facility Port Example"
   ]
  },
  {
   "cell_type": "code",
   "execution_count": null,
   "id": "11f6d53c-4d4a-4692-ab4b-bcee89c571b4",
   "metadata": {},
   "outputs": [],
   "source": [
    "import sys\n",
    "import os\n",
    "import json\n",
    "import traceback\n",
    "import time\n",
    "from datetime import datetime, timedelta\n",
    "from dateutil import tz\n",
    "from ipaddress import ip_address, IPv4Address, IPv6Address, IPv4Network, IPv6Network"
   ]
  },
  {
   "cell_type": "markdown",
   "id": "93266d76-6177-46a3-9f55-f63d719880c7",
   "metadata": {},
   "source": [
    "## Chameleon Imports"
   ]
  },
  {
   "cell_type": "code",
   "execution_count": null,
   "id": "070b596c-b97b-4fc6-b8e9-4b9f2947e9c0",
   "metadata": {},
   "outputs": [],
   "source": [
    "import chi\n",
    "import chi.lease"
   ]
  },
  {
   "cell_type": "markdown",
   "id": "2563fb51-b0a2-402b-810a-b1e54fca1516",
   "metadata": {},
   "source": [
    "## Fabric Imports"
   ]
  },
  {
   "cell_type": "code",
   "execution_count": null,
   "id": "50f2cd4d-c85b-4517-9f36-af0d3fb9a3c0",
   "metadata": {},
   "outputs": [],
   "source": [
    "from fabrictestbed_extensions.fablib.fablib import fablib"
   ]
  },
  {
   "cell_type": "markdown",
   "id": "7c28ddfd-76ac-4780-8088-63abf74be102",
   "metadata": {
    "tags": []
   },
   "source": [
    "## Chameleon Variables"
   ]
  },
  {
   "cell_type": "markdown",
   "id": "acbdb6ec-c83c-4b70-8783-c881aa8e2624",
   "metadata": {},
   "source": [
    "For stitching to work we need to specify stich provider \"fabric\" and physical network \"physnet1\""
   ]
  },
  {
   "cell_type": "code",
   "execution_count": null,
   "id": "db31f891-7d12-4aa7-991a-2bb5dd0053e6",
   "metadata": {},
   "outputs": [],
   "source": [
    "# Chameleon Config\n",
    "chameleon_prefix =  f\"chameleon_fabric_facility_port_\"\n",
    "chameleon_server_name = chameleon_prefix+'server'\n",
    "chameleon_network_name = chameleon_prefix+'net'\n",
    "chameleon_subnet_name = chameleon_prefix+'subnet'\n",
    "chameleon_router_name = chameleon_prefix+'router'\n",
    "chameleon_lease_name = chameleon_prefix+'lease'\n",
    "\n",
    "chameleon_image_name='CC-Ubuntu20.04'\n",
    "chameleon_node_type=\"compute_cascadelake_r\"\n",
    "chameleon_physical_network='physnet1'\n",
    "chameleon_stitch_provider='fabric'\n",
    "chameleon_server_count=2\n",
    "chameleon_key_name='fabric-chameleon'"
   ]
  },
  {
   "cell_type": "markdown",
   "id": "60451416-b93c-4368-ab0b-03004d3ce9bd",
   "metadata": {},
   "source": [
    "## Fabric Variables"
   ]
  },
  {
   "cell_type": "code",
   "execution_count": null,
   "id": "47b11ad9-64af-439a-be8f-351cc18d4f00",
   "metadata": {},
   "outputs": [],
   "source": [
    "# Create a FABlib manager\n",
    "fablib.show_config()\n",
    "\n",
    "# FABRIC Config\n",
    "fabric_slice_name=f'chameleon_fabric_facility_port'\n",
    "fabric_node_name='node1'\n",
    "\n",
    "fabric_node_image='default_ubuntu_20'\n",
    "fabric_site='STAR'\n",
    "fabric_cores = 24\n",
    "fabric_ram = 32\n",
    "fabric_disk = 100"
   ]
  },
  {
   "cell_type": "markdown",
   "id": "8e60e994-30cc-417d-a75e-c3a3fa50a6d1",
   "metadata": {},
   "source": [
    "## Configure Network Space"
   ]
  },
  {
   "cell_type": "code",
   "execution_count": null,
   "id": "fd68102d-5acf-4133-aa57-1dac82801773",
   "metadata": {},
   "outputs": [],
   "source": [
    "#Network Config\n",
    "subnet = IPv4Network(\"192.168.100.0/24\")\n",
    "\n",
    "fabric_allocation_pool_start=IPv4Address('192.168.100.200')\n",
    "fabric_allocation_pool_end=IPv4Address('192.168.100.250')\n",
    "fabric_available_ips=[]\n",
    "for ip_int in range(int(fabric_allocation_pool_start),int(fabric_allocation_pool_end)+1):\n",
    "    fabric_available_ips.append(IPv4Address(ip_int))\n",
    "    \n",
    "chameleon_allocation_pool_start='192.168.100.100'\n",
    "chameleon_allocation_pool_end='192.168.100.150'\n",
    "chameleon_gateway_ip='192.168.100.1'\n",
    "\n",
    "#chameleon_available_ips=[]\n",
    "#for ip_int in range(int(IPv4Address(chameleon_allocation_pool_start)),int(IPv4Address(chameleon_allocation_pool_end))+1):\n",
    "#    chameleon_available_ips.append(IPv4Address(ip_int))"
   ]
  },
  {
   "cell_type": "markdown",
   "id": "a02f77b8-645e-4b0f-879b-9c02bfc7efbb",
   "metadata": {},
   "source": [
    "## Create Chameleon Lease For Compute and Network"
   ]
  },
  {
   "cell_type": "code",
   "execution_count": null,
   "id": "9c3e970f-7232-495d-bcfb-89595fdf775e",
   "metadata": {},
   "outputs": [],
   "source": [
    "BLAZAR_TIME_FORMAT = '%Y-%m-%d %H:%M'\n",
    "\n",
    "try:\n",
    "    # Set start/end date for lease\n",
    "    # Start one minute into future to avoid Blazar thinking lease is in past\n",
    "    # due to rounding to closest minute.\n",
    "    start_date = (datetime.now(tz=tz.tzutc()) + timedelta(minutes=1)).strftime(BLAZAR_TIME_FORMAT)\n",
    "    end_date   = (datetime.now(tz=tz.tzutc()) + timedelta(days=1)).strftime(BLAZAR_TIME_FORMAT)\n",
    "\n",
    "    # Build list of reservations (in this case there is only one reservation)\n",
    "    reservation_list = []\n",
    "    chi.lease.add_node_reservation(reservation_list, count=chameleon_server_count, node_type=chameleon_node_type)\n",
    "\n",
    "    reservation_list.append(\n",
    "            {\n",
    "                \"resource_type\": \"network\",\n",
    "                \"network_name\": chameleon_network_name,\n",
    "                \"network_properties\": \"\",\n",
    "                \"resource_properties\": json.dumps(\n",
    "                    [\"==\", \"$stitch_provider\", chameleon_stitch_provider]\n",
    "                ),\n",
    "            }\n",
    "    )\n",
    "    \n",
    "    #reservation_list.append(\n",
    "    #        {\n",
    "    #            \"resource_type\": \"network\",\n",
    "    #            \"network_name\": chameleon_network_name,\n",
    "    #            \"network_properties\": \"\",\n",
    "    #            \"resource_properties\": json.dumps(\n",
    "    #                [\"==\", \"$segment_id\", \"3303\"]\n",
    "    #            ),\n",
    "    #        }\n",
    "    #)\n",
    "\n",
    "\n",
    "    # Create the lease\n",
    "    chameleon_lease = chi.lease.create_lease(chameleon_lease_name,\n",
    "                                      reservations=reservation_list,\n",
    "                                      start_date=start_date,\n",
    "                                      end_date=end_date)\n",
    "\n",
    "    #Print the lease info\n",
    "    chameleon_compute_reservation_id = [reservation for reservation in chameleon_lease['reservations'] if reservation['resource_type'] == 'physical:host'][0]['id']\n",
    "    print(f\"chameleon_compute_reservation_id: {chameleon_compute_reservation_id}\")\n",
    "    chameleon_network_reservation_id = [reservation for reservation in chameleon_lease['reservations'] if reservation['resource_type'] == 'network'][0]['id']\n",
    "    print(f\"chameleon_network_reservation_id: {chameleon_network_reservation_id}\")\n",
    "except Exception as e:\n",
    "    print(f\"Exception: {e}\")\n",
    "    traceback.print_exc()"
   ]
  },
  {
   "cell_type": "markdown",
   "id": "2643904b-e598-484e-9222-845f323352e3",
   "metadata": {},
   "source": [
    "## Wait Until Network Gets Provisioned"
   ]
  },
  {
   "cell_type": "code",
   "execution_count": null,
   "id": "d794db2a-b566-437f-9b6d-65d1e200bb79",
   "metadata": {},
   "outputs": [],
   "source": [
    "chameleon_network = None\n",
    "chameleon_network_id = None\n",
    "network_vlan = None\n",
    "\n",
    "while network_vlan == None:\n",
    "    try:\n",
    "        #Get the network\n",
    "        chameleon_network = chi.network.get_network(chameleon_network_name)\n",
    "\n",
    "        #Get the network ID\n",
    "        chameleon_network_id = chameleon_network['id']\n",
    "        print(f'Chameleon Network ID: {chameleon_network_id}')\n",
    "\n",
    "        #Get the VLAN tag (needed for FABRIC stitching)\n",
    "        network_vlan = chameleon_network['provider:segmentation_id']\n",
    "        print(f'network_vlan: {network_vlan}')\n",
    "    except:\n",
    "        print(f'Chameleon Network is not ready. Trying again!')\n",
    "        time.sleep(10)           "
   ]
  },
  {
   "cell_type": "markdown",
   "id": "484313ec-ae16-4ee2-9feb-476c25b13d26",
   "metadata": {},
   "source": [
    "## Create The Subnet"
   ]
  },
  {
   "cell_type": "code",
   "execution_count": null,
   "id": "27bf7299-1cfc-4b03-86d8-9c7a563c84e2",
   "metadata": {},
   "outputs": [],
   "source": [
    "try:\n",
    "    chameleon_subnet = chi.network.create_subnet(chameleon_subnet_name, chameleon_network_id, \n",
    "                                             cidr=str(subnet),\n",
    "                                             allocation_pool_start=chameleon_allocation_pool_start,\n",
    "                                             allocation_pool_end=chameleon_allocation_pool_end,\n",
    "                                             gateway_ip=chameleon_gateway_ip)\n",
    "    chameleon_subnet_id = chameleon_subnet[\"id\"]\n",
    "except Exception as e:\n",
    "    print(f\"Exception: {e}\")\n",
    "    traceback.print_exc()\n",
    "\n",
    "print(json.dumps(chameleon_subnet, indent=2))"
   ]
  },
  {
   "cell_type": "markdown",
   "id": "a6253d98-fe92-46a8-9c1d-7f5556d3528b",
   "metadata": {},
   "source": [
    "## Create The Router and Add The Subnet"
   ]
  },
  {
   "cell_type": "code",
   "execution_count": null,
   "id": "8403b3fb-7f1d-469e-9c29-d19c63b9b859",
   "metadata": {},
   "outputs": [],
   "source": [
    "try:\n",
    "    chameleon_router = chi.network.create_router(chameleon_router_name, gw_network_name='public')\n",
    "    chi.network.add_subnet_to_router_by_name(chameleon_router_name, chameleon_subnet_name)\n",
    "except Exception as e:\n",
    "    print(f\"Exception: {e}\")\n",
    "    traceback.print_exc()\n",
    "    \n",
    "print(json.dumps(chameleon_router, indent=2))"
   ]
  },
  {
   "cell_type": "markdown",
   "id": "7a83d22f-7561-4ff0-aa92-9e1cb670f5ba",
   "metadata": {},
   "source": [
    "## Create Fabric Slice With Facility Port"
   ]
  },
  {
   "cell_type": "markdown",
   "id": "83dd684e-81df-4cf0-9096-9b14a3c6da96",
   "metadata": {},
   "source": [
    "Facility ports currently only work with the dedicate Smart Nics (ConnectX_5 and ConnectX_6)\n",
    "Additionally stitching can work from within the same site that has the Facility Port or from VMs in different sites, but the connection type is L2PTP.\n",
    "Finally each Facility Port has its own permission on Fabric which the project needs to gain access before using"
   ]
  },
  {
   "cell_type": "code",
   "execution_count": null,
   "id": "5075a988-c0a9-4ef3-b782-5a377caa8f4a",
   "metadata": {},
   "outputs": [],
   "source": [
    "try:\n",
    "    #Create a slice\n",
    "    fabric_slice = fablib.new_slice(name=fabric_slice_name)\n",
    "    \n",
    "    fabric_node = fabric_slice.add_node(name=fabric_node_name, site=fabric_site, image=fabric_node_image,\n",
    "                                       cores=fabric_cores, ram=fabric_ram, disk=fabric_disk)\n",
    "\n",
    "    fabric_node_iface = fabric_node.add_component(model='NIC_ConnectX_5', name=f\"stitch_nic\").get_interfaces()[0]\n",
    "    \n",
    "    fabric_facility_port = fabric_slice.add_facility_port(name='Chameleon-StarLight', site='STAR', vlan=str(network_vlan))\n",
    "    fabric_facility_port_iface = fabric_facility_port.get_interfaces()[0]\n",
    "    \n",
    "    fabric_net = fabric_slice.add_l2network(name=f'net_facility_port', interfaces=[fabric_node_iface,fabric_facility_port_iface]) \n",
    "\n",
    "    #Submit the Request\n",
    "    fabric_slice.submit()\n",
    "except Exception as e:\n",
    "    print(f\"Exception: {e}\")\n",
    "    traceback.print_exc()"
   ]
  },
  {
   "cell_type": "markdown",
   "id": "adcd7b56-4e9c-40cf-bd38-20e39d9ee7dc",
   "metadata": {},
   "source": [
    "## Set IP address on the Fabric Node Connected to the Facility Port"
   ]
  },
  {
   "cell_type": "code",
   "execution_count": null,
   "id": "8fd99def-bd8d-4e7d-b510-309f93e585cf",
   "metadata": {},
   "outputs": [],
   "source": [
    "try:        \n",
    "    fabric_node = fabric_slice.get_node(name=fabric_node_name)   \n",
    "    print(f\"{fabric_node}\")\n",
    "    \n",
    "    fabric_node_iface = fabric_node.get_interface(network_name=f'net_facility_port') \n",
    "    fabric_node_addr = fabric_available_ips.pop(0)\n",
    "    print(f\"fabric_node_addr: {fabric_node_addr}\")\n",
    "    fabric_node_iface.ip_addr_add(addr=fabric_node_addr, subnet=subnet)\n",
    "    \n",
    "    stdout, stderr = fabric_node.execute(f'ip addr show {fabric_node_iface.get_os_interface()}')\n",
    "    print (stdout)    \n",
    "except Exception as e:\n",
    "    print(f\"Exception: {e}\")"
   ]
  },
  {
   "cell_type": "markdown",
   "id": "6239c89e-eea7-4c73-8cb5-1bf5e2567fb2",
   "metadata": {},
   "source": [
    "## Ping Chameleon Router From Fabric"
   ]
  },
  {
   "cell_type": "code",
   "execution_count": null,
   "id": "22dddadb-bf47-4775-831c-277ad32a00bc",
   "metadata": {},
   "outputs": [],
   "source": [
    "try:\n",
    "    fabric_node = fabric_slice.get_node(name=fabric_node_name) \n",
    "    stdout, stderr = fabric_node.execute(f'ping -c 4 {chameleon_gateway_ip}')\n",
    "    print (stdout)\n",
    "except Exception as e:\n",
    "    print(f\"Error: {e}\")"
   ]
  },
  {
   "cell_type": "markdown",
   "id": "fd286039-948a-4cd9-8862-01b06875516e",
   "metadata": {},
   "source": [
    "## Create Chameleon Nodes If Router Responds to Ping"
   ]
  },
  {
   "cell_type": "code",
   "execution_count": null,
   "id": "b9a1afd4-696d-4d0a-9dfc-fb1e31057ba7",
   "metadata": {},
   "outputs": [],
   "source": [
    "servers=[]\n",
    "\n",
    "try:\n",
    "    for i in range(chameleon_server_count):\n",
    "        server_name=f\"{chameleon_server_name}_{i}\"\n",
    "        port_name=f\"{chameleon_server_name}_port_{i}\"\n",
    "        \n",
    "        # Create the server\n",
    "        servers.append(chi.server.create_server(server_name, \n",
    "                              reservation_id=chameleon_compute_reservation_id, \n",
    "                              network_name=chameleon_network_name, \n",
    "                              image_name=chameleon_image_name,\n",
    "                              key_name=chameleon_key_name))\n",
    "\n",
    "except Exception as e:\n",
    "    print(f\"Exception: {e}\")\n",
    "\n",
    "for server in servers:\n",
    "    chi.server.wait_for_active(server.id)"
   ]
  },
  {
   "cell_type": "markdown",
   "id": "df0ad3aa-95da-4c28-9602-9744ef018585",
   "metadata": {},
   "source": [
    "## Get Fixed IPs"
   ]
  },
  {
   "cell_type": "code",
   "execution_count": null,
   "id": "64e49780-d9b4-4bdb-b9e6-d47a2e67830f",
   "metadata": {},
   "outputs": [],
   "source": [
    "fixed_ips={}\n",
    "for i in range(chameleon_server_count):\n",
    "    server_name=f\"{chameleon_server_name}_{i}\"\n",
    "    server_id = get_server_id(server_name)\n",
    "    fixed_ip = get_server(server_id).interface_list()[0].to_dict()[\"fixed_ips\"][0][\"ip_address\"]\n",
    "    fixed_ips[server_name]=fixed_ip\n",
    "\n",
    "for server_name,fixed_ip in fixed_ips.items():\n",
    "    print(f'{server_name}: {fixed_ip}')"
   ]
  },
  {
   "cell_type": "markdown",
   "id": "ee7403ba-90fa-4d41-b0a6-54bfc8ae8a61",
   "metadata": {},
   "source": [
    "## Ping Chameleon Nodes From Fabric"
   ]
  },
  {
   "cell_type": "code",
   "execution_count": null,
   "id": "0ea1e4ae-93eb-4e52-9b02-58a3326e8b4a",
   "metadata": {},
   "outputs": [],
   "source": [
    "try:\n",
    "    fabric_node = fabric_slice.get_node(name=fabric_node_name) \n",
    "    stdout, stderr = fabric_node.execute(f'ping -c 4 192.168.100.135')\n",
    "    print (stdout)\n",
    "except Exception as e:\n",
    "    print(f\"Error: {e}\")"
   ]
  },
  {
   "cell_type": "markdown",
   "id": "eb7a5d84-97e7-4c19-b503-faf7f47c4c06",
   "metadata": {
    "tags": []
   },
   "source": [
    "## Cleanup Chameleon"
   ]
  },
  {
   "cell_type": "code",
   "execution_count": null,
   "id": "a67c0a6e-7c6b-4cef-8793-10ae39fc6d1f",
   "metadata": {},
   "outputs": [],
   "source": [
    "for i in range(chameleon_server_count):\n",
    "    server_name=f\"{chameleon_server_name}_{i}\"\n",
    "    chi.server.delete_server(chi.server.get_server_id(server_name))"
   ]
  },
  {
   "cell_type": "code",
   "execution_count": null,
   "id": "253a0b57-2578-4b47-90b0-f089786b5fe3",
   "metadata": {},
   "outputs": [],
   "source": [
    "router_id = chameleon_router['id']\n",
    "subnet_id = chameleon_subnet['id']\n",
    "network_id = chameleon_network_id\n",
    "\n",
    "try:\n",
    "    result = chi.network.remove_subnet_from_router(router_id, subnet_id)\n",
    "except Exception as e:\n",
    "    print(f\"detach_router error: {str(e)}\")"
   ]
  },
  {
   "cell_type": "code",
   "execution_count": null,
   "id": "fa87821c-1966-4961-9790-5ba1cfe41f41",
   "metadata": {},
   "outputs": [],
   "source": [
    "try:\n",
    "    result = chi.network.delete_router(router_id)\n",
    "except Exception as e:\n",
    "    print(f\"delete_router error: {str(e)}\")"
   ]
  },
  {
   "cell_type": "code",
   "execution_count": null,
   "id": "48579dac-a220-4d21-ad0f-3d31cd47b7c3",
   "metadata": {},
   "outputs": [],
   "source": [
    "try:\n",
    "    result = chi.network.delete_subnet(subnet_id)\n",
    "except Exception as e:\n",
    "    print(f\"delete_subnet error: {str(e)}\")"
   ]
  },
  {
   "cell_type": "code",
   "execution_count": null,
   "id": "cf2f462d-8228-451c-b796-a36413fb9a0e",
   "metadata": {},
   "outputs": [],
   "source": [
    "try:\n",
    "    result = chi.network.delete_network(network_id)\n",
    "except Exception as e:\n",
    "    print(f\"delete_network error: {str(e)}\")"
   ]
  },
  {
   "cell_type": "code",
   "execution_count": null,
   "id": "db961344-fedb-44bf-93b9-c1e2ef4d3701",
   "metadata": {},
   "outputs": [],
   "source": [
    "try:\n",
    "    chi.lease.delete_lease(chameleon_lease['id'])\n",
    "except Exception as e:\n",
    "    print(f\"delete_lease error: {str(e)}\")"
   ]
  },
  {
   "cell_type": "markdown",
   "id": "d1be68fe-1825-4feb-9e58-da2603bd146b",
   "metadata": {},
   "source": [
    "## Cleanup Fabric"
   ]
  },
  {
   "cell_type": "code",
   "execution_count": null,
   "id": "6cb6751e-d888-46c4-9b00-001bdde7648a",
   "metadata": {},
   "outputs": [],
   "source": [
    "try:\n",
    "    fabric_slice = fablib.get_slice(fabric_slice_name)\n",
    "    fabric_slice.delete()\n",
    "except Exception as e:\n",
    "    print(f\"Exception: {e}\")"
   ]
  },
  {
   "cell_type": "code",
   "execution_count": null,
   "id": "d4c6cffa-a854-4524-b486-d3f80dd7d9a3",
   "metadata": {},
   "outputs": [],
   "source": []
  }
 ],
 "metadata": {
  "kernelspec": {
   "display_name": "Python 3 (ipykernel)",
   "language": "python",
   "name": "python3"
  },
  "language_info": {
   "codemirror_mode": {
    "name": "ipython",
    "version": 3
   },
   "file_extension": ".py",
   "mimetype": "text/x-python",
   "name": "python",
   "nbconvert_exporter": "python",
   "pygments_lexer": "ipython3",
   "version": "3.9.14"
  }
 },
 "nbformat": 4,
 "nbformat_minor": 5
}
